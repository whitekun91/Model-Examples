{
 "cells": [
  {
   "cell_type": "code",
   "id": "initial_id",
   "metadata": {
    "collapsed": true,
    "ExecuteTime": {
     "end_time": "2024-08-26T14:27:17.508346Z",
     "start_time": "2024-08-26T14:27:17.494372Z"
    }
   },
   "source": [
    "from Model.GAN import Generator, Discriminator\n",
    "from extractor.data_loader import dataset_loader\n",
    "from torchvision.utils import save_image\n",
    "import torch\n",
    "import torch.nn as nn\n",
    "import json\n",
    "import time"
   ],
   "outputs": [],
   "execution_count": 40
  },
  {
   "metadata": {},
   "cell_type": "markdown",
   "source": "# Load config file",
   "id": "5e763c2204af011b"
  },
  {
   "metadata": {
    "ExecuteTime": {
     "end_time": "2024-08-26T14:27:17.523562Z",
     "start_time": "2024-08-26T14:27:17.513267Z"
    }
   },
   "cell_type": "code",
   "source": [
    "with open(\"./config/torch_config.json\", \"r\") as cfg:\n",
    "    torch_config = json.load(cfg)"
   ],
   "id": "2d12a8fcf3fbbb98",
   "outputs": [],
   "execution_count": 41
  },
  {
   "metadata": {},
   "cell_type": "markdown",
   "source": "# Load Dataset",
   "id": "fc38d2c7cc0cfb94"
  },
  {
   "metadata": {
    "ExecuteTime": {
     "end_time": "2024-08-26T14:27:17.539105Z",
     "start_time": "2024-08-26T14:27:17.524562Z"
    }
   },
   "cell_type": "code",
   "source": "load_params = torch_config[\"data_loader\"]",
   "id": "2421134195e411a3",
   "outputs": [],
   "execution_count": 42
  },
  {
   "metadata": {
    "ExecuteTime": {
     "end_time": "2024-08-26T14:27:17.570206Z",
     "start_time": "2024-08-26T14:27:17.540426Z"
    }
   },
   "cell_type": "code",
   "source": [
    "dataloader = dataset_loader(load_params['file_path'], batch_size=load_params['batch_size'], \n",
    "                            mnist_size=load_params['mnist_size'], norm_mean=load_params['norm_mean'], norm_std=load_params['norm_std'])"
   ],
   "id": "4cfee719b2537e67",
   "outputs": [],
   "execution_count": 43
  },
  {
   "metadata": {},
   "cell_type": "markdown",
   "source": "# Define GAN Model",
   "id": "3c22376a9c6230f7"
  },
  {
   "metadata": {
    "ExecuteTime": {
     "end_time": "2024-08-26T14:27:17.585222Z",
     "start_time": "2024-08-26T14:27:17.571774Z"
    }
   },
   "cell_type": "code",
   "source": [
    "gen_params = torch_config[\"generator\"]\n",
    "generator = Generator(gen_params['latent_dim'], gen_params['initial_gen_nodes'], gen_params['batch_eps'],\n",
    "                      gen_params['neg_slope'], gen_params['mnist_size'])"
   ],
   "id": "2ba49f8217bb69dc",
   "outputs": [],
   "execution_count": 44
  },
  {
   "metadata": {
    "ExecuteTime": {
     "end_time": "2024-08-26T14:27:17.600326Z",
     "start_time": "2024-08-26T14:27:17.586222Z"
    }
   },
   "cell_type": "code",
   "source": [
    "dis_params = torch_config[\"discriminator\"]\n",
    "discriminator = Discriminator(dis_params['initial_dis_nodes'], dis_params['neg_slope'], dis_params['mnist_size'])"
   ],
   "id": "d69d12237aad8efa",
   "outputs": [],
   "execution_count": 45
  },
  {
   "metadata": {
    "ExecuteTime": {
     "end_time": "2024-08-26T14:27:17.615392Z",
     "start_time": "2024-08-26T14:27:17.601327Z"
    }
   },
   "cell_type": "code",
   "source": "generator.cuda()",
   "id": "af567de458c3220",
   "outputs": [
    {
     "data": {
      "text/plain": [
       "Generator(\n",
       "  (model): Sequential(\n",
       "    (0): Linear(in_features=100, out_features=128, bias=True)\n",
       "    (1): LeakyReLU(negative_slope=0.2, inplace=True)\n",
       "    (2): Linear(in_features=128, out_features=256, bias=True)\n",
       "    (3): BatchNorm1d(256, eps=0.8, momentum=0.1, affine=True, track_running_stats=True)\n",
       "    (4): LeakyReLU(negative_slope=0.2, inplace=True)\n",
       "    (5): Linear(in_features=256, out_features=512, bias=True)\n",
       "    (6): BatchNorm1d(512, eps=0.8, momentum=0.1, affine=True, track_running_stats=True)\n",
       "    (7): LeakyReLU(negative_slope=0.2, inplace=True)\n",
       "    (8): Linear(in_features=512, out_features=1024, bias=True)\n",
       "    (9): BatchNorm1d(1024, eps=0.8, momentum=0.1, affine=True, track_running_stats=True)\n",
       "    (10): LeakyReLU(negative_slope=0.2, inplace=True)\n",
       "    (11): Linear(in_features=1024, out_features=784, bias=True)\n",
       "    (12): Tanh()\n",
       "  )\n",
       ")"
      ]
     },
     "execution_count": 46,
     "metadata": {},
     "output_type": "execute_result"
    }
   ],
   "execution_count": 46
  },
  {
   "metadata": {
    "ExecuteTime": {
     "end_time": "2024-08-26T14:27:17.630423Z",
     "start_time": "2024-08-26T14:27:17.616394Z"
    }
   },
   "cell_type": "code",
   "source": "discriminator.cuda()",
   "id": "1497d4eeed7409dc",
   "outputs": [
    {
     "data": {
      "text/plain": [
       "Discriminator(\n",
       "  (model): Sequential(\n",
       "    (0): Linear(in_features=784, out_features=512, bias=True)\n",
       "    (1): LeakyReLU(negative_slope=0.2, inplace=True)\n",
       "    (2): Linear(in_features=512, out_features=256, bias=True)\n",
       "    (3): LeakyReLU(negative_slope=0.2, inplace=True)\n",
       "    (4): Linear(in_features=256, out_features=1, bias=True)\n",
       "    (5): Sigmoid()\n",
       "  )\n",
       ")"
      ]
     },
     "execution_count": 47,
     "metadata": {},
     "output_type": "execute_result"
    }
   ],
   "execution_count": 47
  },
  {
   "metadata": {},
   "cell_type": "markdown",
   "source": "# Loss function",
   "id": "e668211bf5d7fab7"
  },
  {
   "metadata": {
    "ExecuteTime": {
     "end_time": "2024-08-26T14:27:17.645208Z",
     "start_time": "2024-08-26T14:27:17.631423Z"
    }
   },
   "cell_type": "code",
   "source": [
    "adversarial_loss = nn.BCELoss()\n",
    "adversarial_loss.cuda()"
   ],
   "id": "48fb123bf0663b10",
   "outputs": [
    {
     "data": {
      "text/plain": [
       "BCELoss()"
      ]
     },
     "execution_count": 48,
     "metadata": {},
     "output_type": "execute_result"
    }
   ],
   "execution_count": 48
  },
  {
   "metadata": {
    "ExecuteTime": {
     "end_time": "2024-08-26T14:27:17.660290Z",
     "start_time": "2024-08-26T14:27:17.646209Z"
    }
   },
   "cell_type": "code",
   "source": [
    "lr = torch_config['learning_rate']\n",
    "betas_min = torch_config['betas_min']\n",
    "betas_max = torch_config['betas_max']\n",
    "\n",
    "# generator\n",
    "optimizer_G = torch.optim.Adam(generator.parameters(), lr=lr, betas=(betas_min, betas_max))\n",
    "\n",
    "#discriminator\n",
    "optimizer_D = torch.optim.Adam(discriminator.parameters(), lr=lr, betas=(betas_min, betas_max))"
   ],
   "id": "843f56c24852178a",
   "outputs": [],
   "execution_count": 49
  },
  {
   "metadata": {},
   "cell_type": "markdown",
   "source": "# Model Learning",
   "id": "ee08d933e4f3ed4e"
  },
  {
   "metadata": {
    "ExecuteTime": {
     "end_time": "2024-08-26T14:32:05.954361Z",
     "start_time": "2024-08-26T14:32:05.940300Z"
    }
   },
   "cell_type": "code",
   "source": [
    "n_epochs = torch_config['n_epochs']\n",
    "sample_interval = torch_config['sample_interval']\n",
    "start_time = time.time()"
   ],
   "id": "7c4aa5a3ce23dfbf",
   "outputs": [],
   "execution_count": 51
  },
  {
   "metadata": {
    "ExecuteTime": {
     "end_time": "2024-08-26T14:54:01.377386Z",
     "start_time": "2024-08-26T14:32:06.416573Z"
    }
   },
   "cell_type": "code",
   "source": [
    "for epoch in range(n_epochs):\n",
    "    for i, (imgs, _) in enumerate(dataloader):\n",
    "        \n",
    "        # 진짜(real) 이미지와 가짜(fake) 이미지에 대한 정답 레이블 생성\n",
    "        # real = torch.cuda.FloatTensor(imgs.size(0), 1).fill_(1.0) # 진짜(real): 1\n",
    "        # fake = torch.cuda.FloatTensor(imgs.size(0), 1).fill_(0.0) # 가짜(fake): 0\n",
    "        real = torch.ones(imgs.size(0), 1, device='cuda') # 진짜(real): 1\n",
    "        fake = torch.zeros(imgs.size(0), 1, device='cuda') # 가짜(fake): 0\n",
    "\n",
    "        real_imgs = imgs.cuda()\n",
    "\n",
    "        # Learning Generator layer\n",
    "        optimizer_G.zero_grad()\n",
    "\n",
    "        # random noise samping\n",
    "        z = torch.normal(mean=0, std=1, size=(imgs.shape[0], gen_params['latent_dim'])).cuda()\n",
    "\n",
    "        # Generating Image\n",
    "        generated_imgs = generator(z)\n",
    "\n",
    "        # Calculating generator layer loss\n",
    "        g_loss = adversarial_loss(discriminator(generated_imgs), real)\n",
    "\n",
    "        # Update generator layer\n",
    "        g_loss.backward()\n",
    "        optimizer_G.step()\n",
    "\n",
    "\n",
    "        # Learning Discriminator layer\n",
    "        optimizer_D.zero_grad()\n",
    "\n",
    "        # Calculating Discriminator layer loss\n",
    "        real_loss = adversarial_loss(discriminator(real_imgs), real)\n",
    "        fake_loss = adversarial_loss(discriminator(generated_imgs.detach()), fake)\n",
    "        d_loss = (real_loss + fake_loss) / 2\n",
    "\n",
    "        # Update Discriminator layer\n",
    "        d_loss.backward()\n",
    "        optimizer_D.step()\n",
    "\n",
    "        done = epoch * len(dataloader) + i\n",
    "        if done % sample_interval == 0:\n",
    "            # 생성된 이미지 중에서 25개만 선택하여 5 X 5 격자 이미지에 출력\n",
    "            save_image(generated_imgs.data[:25], f\"{load_params['file_path']}/img/{done}.png\", nrow=5, normalize=True)\n",
    "\n",
    "    # Debugging print\n",
    "    print(f\"[Epoch {epoch}/{n_epochs}] [D loss: {d_loss.item():.6f}] [G loss: {g_loss.item():.6f}] [Elapsed time: {time.time() - start_time:.2f}s]\")\n",
    "     "
   ],
   "id": "f352a9c5c0eb9bf2",
   "outputs": [
    {
     "name": "stdout",
     "output_type": "stream",
     "text": [
      "[Epoch 0/200] [D loss: 0.869202] [G loss: 0.223047] [Elapsed time: 7.76s]\n",
      "[Epoch 1/200] [D loss: 0.382252] [G loss: 1.037048] [Elapsed time: 14.53s]\n",
      "[Epoch 2/200] [D loss: 0.411808] [G loss: 0.964525] [Elapsed time: 21.00s]\n",
      "[Epoch 3/200] [D loss: 0.511475] [G loss: 2.391562] [Elapsed time: 27.43s]\n",
      "[Epoch 4/200] [D loss: 0.323203] [G loss: 2.154491] [Elapsed time: 33.89s]\n",
      "[Epoch 5/200] [D loss: 0.323188] [G loss: 1.013246] [Elapsed time: 40.41s]\n",
      "[Epoch 6/200] [D loss: 0.354311] [G loss: 0.884352] [Elapsed time: 46.90s]\n",
      "[Epoch 7/200] [D loss: 0.631692] [G loss: 0.372719] [Elapsed time: 53.22s]\n",
      "[Epoch 8/200] [D loss: 0.258143] [G loss: 1.776297] [Elapsed time: 59.48s]\n",
      "[Epoch 9/200] [D loss: 0.263099] [G loss: 2.389649] [Elapsed time: 65.73s]\n",
      "[Epoch 10/200] [D loss: 0.321180] [G loss: 1.290165] [Elapsed time: 72.21s]\n",
      "[Epoch 11/200] [D loss: 0.216993] [G loss: 2.335168] [Elapsed time: 78.61s]\n",
      "[Epoch 12/200] [D loss: 0.212138] [G loss: 1.553797] [Elapsed time: 84.88s]\n",
      "[Epoch 13/200] [D loss: 0.168293] [G loss: 2.147807] [Elapsed time: 91.21s]\n",
      "[Epoch 14/200] [D loss: 0.753144] [G loss: 7.133670] [Elapsed time: 97.38s]\n",
      "[Epoch 15/200] [D loss: 0.160817] [G loss: 2.864508] [Elapsed time: 103.68s]\n",
      "[Epoch 16/200] [D loss: 0.233880] [G loss: 1.271842] [Elapsed time: 109.85s]\n",
      "[Epoch 17/200] [D loss: 0.259384] [G loss: 3.844568] [Elapsed time: 115.95s]\n",
      "[Epoch 18/200] [D loss: 0.172971] [G loss: 1.986936] [Elapsed time: 122.17s]\n",
      "[Epoch 19/200] [D loss: 0.352724] [G loss: 2.999532] [Elapsed time: 128.47s]\n",
      "[Epoch 20/200] [D loss: 0.299751] [G loss: 3.109933] [Elapsed time: 134.82s]\n",
      "[Epoch 21/200] [D loss: 0.230211] [G loss: 4.048707] [Elapsed time: 141.28s]\n",
      "[Epoch 22/200] [D loss: 0.121065] [G loss: 2.129123] [Elapsed time: 147.97s]\n",
      "[Epoch 23/200] [D loss: 0.155454] [G loss: 2.785758] [Elapsed time: 154.25s]\n",
      "[Epoch 24/200] [D loss: 0.146441] [G loss: 2.154550] [Elapsed time: 160.52s]\n",
      "[Epoch 25/200] [D loss: 0.158781] [G loss: 2.270245] [Elapsed time: 166.61s]\n",
      "[Epoch 26/200] [D loss: 0.153231] [G loss: 2.153597] [Elapsed time: 172.64s]\n",
      "[Epoch 27/200] [D loss: 0.291443] [G loss: 0.975560] [Elapsed time: 178.84s]\n",
      "[Epoch 28/200] [D loss: 0.162915] [G loss: 2.316883] [Elapsed time: 184.82s]\n",
      "[Epoch 29/200] [D loss: 0.165625] [G loss: 2.240045] [Elapsed time: 190.97s]\n",
      "[Epoch 30/200] [D loss: 0.136301] [G loss: 2.463975] [Elapsed time: 197.16s]\n",
      "[Epoch 31/200] [D loss: 0.349398] [G loss: 2.996157] [Elapsed time: 203.18s]\n",
      "[Epoch 32/200] [D loss: 0.442909] [G loss: 0.797026] [Elapsed time: 209.50s]\n",
      "[Epoch 33/200] [D loss: 0.385358] [G loss: 0.880085] [Elapsed time: 215.64s]\n",
      "[Epoch 34/200] [D loss: 0.096002] [G loss: 2.519005] [Elapsed time: 221.69s]\n",
      "[Epoch 35/200] [D loss: 0.229885] [G loss: 1.295508] [Elapsed time: 227.87s]\n",
      "[Epoch 36/200] [D loss: 0.132900] [G loss: 3.990620] [Elapsed time: 234.03s]\n",
      "[Epoch 37/200] [D loss: 0.094760] [G loss: 3.676568] [Elapsed time: 240.27s]\n",
      "[Epoch 38/200] [D loss: 0.211163] [G loss: 2.515456] [Elapsed time: 246.60s]\n",
      "[Epoch 39/200] [D loss: 0.155587] [G loss: 5.093050] [Elapsed time: 253.74s]\n",
      "[Epoch 40/200] [D loss: 0.128922] [G loss: 2.227741] [Elapsed time: 260.30s]\n",
      "[Epoch 41/200] [D loss: 0.094487] [G loss: 4.199605] [Elapsed time: 266.63s]\n",
      "[Epoch 42/200] [D loss: 0.138542] [G loss: 2.510843] [Elapsed time: 273.08s]\n",
      "[Epoch 43/200] [D loss: 0.050084] [G loss: 4.218229] [Elapsed time: 279.38s]\n",
      "[Epoch 44/200] [D loss: 0.204846] [G loss: 2.575775] [Elapsed time: 286.53s]\n",
      "[Epoch 45/200] [D loss: 0.205461] [G loss: 3.679658] [Elapsed time: 293.61s]\n",
      "[Epoch 46/200] [D loss: 0.085563] [G loss: 2.570281] [Elapsed time: 300.81s]\n",
      "[Epoch 47/200] [D loss: 0.294047] [G loss: 1.083948] [Elapsed time: 307.57s]\n",
      "[Epoch 48/200] [D loss: 0.104045] [G loss: 3.792404] [Elapsed time: 314.69s]\n",
      "[Epoch 49/200] [D loss: 0.670904] [G loss: 7.933990] [Elapsed time: 321.43s]\n",
      "[Epoch 50/200] [D loss: 0.214677] [G loss: 5.128471] [Elapsed time: 328.20s]\n",
      "[Epoch 51/200] [D loss: 0.101540] [G loss: 3.549385] [Elapsed time: 334.66s]\n",
      "[Epoch 52/200] [D loss: 0.247966] [G loss: 5.802029] [Elapsed time: 341.25s]\n",
      "[Epoch 53/200] [D loss: 0.116169] [G loss: 2.552033] [Elapsed time: 347.97s]\n",
      "[Epoch 54/200] [D loss: 0.249133] [G loss: 1.200332] [Elapsed time: 354.42s]\n",
      "[Epoch 55/200] [D loss: 0.242662] [G loss: 1.204581] [Elapsed time: 360.78s]\n",
      "[Epoch 56/200] [D loss: 0.128115] [G loss: 2.723730] [Elapsed time: 367.31s]\n",
      "[Epoch 57/200] [D loss: 0.168329] [G loss: 2.908843] [Elapsed time: 373.84s]\n",
      "[Epoch 58/200] [D loss: 0.209217] [G loss: 2.358027] [Elapsed time: 380.25s]\n",
      "[Epoch 59/200] [D loss: 0.086886] [G loss: 3.652119] [Elapsed time: 386.82s]\n",
      "[Epoch 60/200] [D loss: 0.294713] [G loss: 5.626291] [Elapsed time: 393.72s]\n",
      "[Epoch 61/200] [D loss: 0.223918] [G loss: 3.552274] [Elapsed time: 400.23s]\n",
      "[Epoch 62/200] [D loss: 0.171676] [G loss: 2.112939] [Elapsed time: 406.88s]\n",
      "[Epoch 63/200] [D loss: 0.199401] [G loss: 1.829702] [Elapsed time: 413.60s]\n",
      "[Epoch 64/200] [D loss: 0.060978] [G loss: 3.185208] [Elapsed time: 420.50s]\n",
      "[Epoch 65/200] [D loss: 0.207171] [G loss: 2.052301] [Elapsed time: 427.09s]\n",
      "[Epoch 66/200] [D loss: 0.143569] [G loss: 3.301083] [Elapsed time: 433.67s]\n",
      "[Epoch 67/200] [D loss: 0.142334] [G loss: 2.986587] [Elapsed time: 440.11s]\n",
      "[Epoch 68/200] [D loss: 0.100879] [G loss: 2.526992] [Elapsed time: 446.68s]\n",
      "[Epoch 69/200] [D loss: 0.138563] [G loss: 2.764570] [Elapsed time: 453.29s]\n",
      "[Epoch 70/200] [D loss: 0.168152] [G loss: 2.253710] [Elapsed time: 459.96s]\n",
      "[Epoch 71/200] [D loss: 0.192505] [G loss: 2.179385] [Elapsed time: 466.10s]\n",
      "[Epoch 72/200] [D loss: 0.108306] [G loss: 2.499277] [Elapsed time: 472.18s]\n",
      "[Epoch 73/200] [D loss: 0.205347] [G loss: 1.802955] [Elapsed time: 478.46s]\n",
      "[Epoch 74/200] [D loss: 0.138562] [G loss: 3.511223] [Elapsed time: 484.57s]\n",
      "[Epoch 75/200] [D loss: 0.112202] [G loss: 2.174150] [Elapsed time: 491.42s]\n",
      "[Epoch 76/200] [D loss: 0.060926] [G loss: 3.121487] [Elapsed time: 497.80s]\n",
      "[Epoch 77/200] [D loss: 0.167286] [G loss: 3.741638] [Elapsed time: 504.07s]\n",
      "[Epoch 78/200] [D loss: 0.165239] [G loss: 2.186931] [Elapsed time: 510.45s]\n",
      "[Epoch 79/200] [D loss: 0.104007] [G loss: 3.463710] [Elapsed time: 516.72s]\n",
      "[Epoch 80/200] [D loss: 0.117466] [G loss: 3.856953] [Elapsed time: 522.89s]\n",
      "[Epoch 81/200] [D loss: 0.262454] [G loss: 3.818288] [Elapsed time: 529.10s]\n",
      "[Epoch 82/200] [D loss: 0.204674] [G loss: 2.135568] [Elapsed time: 535.23s]\n",
      "[Epoch 83/200] [D loss: 0.141772] [G loss: 3.278616] [Elapsed time: 541.57s]\n",
      "[Epoch 84/200] [D loss: 0.111182] [G loss: 2.323526] [Elapsed time: 547.76s]\n",
      "[Epoch 85/200] [D loss: 0.157710] [G loss: 2.780811] [Elapsed time: 554.13s]\n",
      "[Epoch 86/200] [D loss: 0.162494] [G loss: 4.335437] [Elapsed time: 560.71s]\n",
      "[Epoch 87/200] [D loss: 0.084617] [G loss: 3.163869] [Elapsed time: 567.30s]\n",
      "[Epoch 88/200] [D loss: 0.346446] [G loss: 1.536963] [Elapsed time: 573.99s]\n",
      "[Epoch 89/200] [D loss: 0.164925] [G loss: 4.414740] [Elapsed time: 580.41s]\n",
      "[Epoch 90/200] [D loss: 0.177447] [G loss: 3.607922] [Elapsed time: 586.85s]\n",
      "[Epoch 91/200] [D loss: 0.181145] [G loss: 2.810699] [Elapsed time: 593.17s]\n",
      "[Epoch 92/200] [D loss: 0.349890] [G loss: 6.470257] [Elapsed time: 599.51s]\n",
      "[Epoch 93/200] [D loss: 0.229426] [G loss: 4.947907] [Elapsed time: 605.82s]\n",
      "[Epoch 94/200] [D loss: 0.107114] [G loss: 2.708642] [Elapsed time: 612.36s]\n",
      "[Epoch 95/200] [D loss: 0.185676] [G loss: 2.027215] [Elapsed time: 619.05s]\n",
      "[Epoch 96/200] [D loss: 0.165367] [G loss: 3.598593] [Elapsed time: 625.47s]\n",
      "[Epoch 97/200] [D loss: 0.117994] [G loss: 2.752705] [Elapsed time: 632.09s]\n",
      "[Epoch 98/200] [D loss: 0.158337] [G loss: 2.028284] [Elapsed time: 638.63s]\n",
      "[Epoch 99/200] [D loss: 0.108904] [G loss: 3.767210] [Elapsed time: 645.37s]\n",
      "[Epoch 100/200] [D loss: 0.141582] [G loss: 2.369295] [Elapsed time: 651.95s]\n",
      "[Epoch 101/200] [D loss: 0.272220] [G loss: 1.456862] [Elapsed time: 658.39s]\n",
      "[Epoch 102/200] [D loss: 0.152468] [G loss: 4.770976] [Elapsed time: 664.80s]\n",
      "[Epoch 103/200] [D loss: 0.152230] [G loss: 2.891826] [Elapsed time: 671.44s]\n",
      "[Epoch 104/200] [D loss: 0.095471] [G loss: 2.686247] [Elapsed time: 678.49s]\n",
      "[Epoch 105/200] [D loss: 0.133929] [G loss: 2.683144] [Elapsed time: 685.18s]\n",
      "[Epoch 106/200] [D loss: 0.717280] [G loss: 11.215462] [Elapsed time: 691.84s]\n",
      "[Epoch 107/200] [D loss: 0.154903] [G loss: 3.432352] [Elapsed time: 698.40s]\n",
      "[Epoch 108/200] [D loss: 0.124494] [G loss: 2.565844] [Elapsed time: 705.17s]\n",
      "[Epoch 109/200] [D loss: 0.106022] [G loss: 3.501021] [Elapsed time: 711.66s]\n",
      "[Epoch 110/200] [D loss: 0.168854] [G loss: 2.675747] [Elapsed time: 717.97s]\n",
      "[Epoch 111/200] [D loss: 0.186326] [G loss: 1.890156] [Elapsed time: 724.20s]\n",
      "[Epoch 112/200] [D loss: 0.115585] [G loss: 3.113987] [Elapsed time: 730.36s]\n",
      "[Epoch 113/200] [D loss: 0.165273] [G loss: 3.157276] [Elapsed time: 736.80s]\n",
      "[Epoch 114/200] [D loss: 0.119418] [G loss: 2.441547] [Elapsed time: 743.10s]\n",
      "[Epoch 115/200] [D loss: 0.191391] [G loss: 1.627741] [Elapsed time: 749.56s]\n",
      "[Epoch 116/200] [D loss: 0.162965] [G loss: 2.334936] [Elapsed time: 756.00s]\n",
      "[Epoch 117/200] [D loss: 0.167814] [G loss: 3.334209] [Elapsed time: 762.44s]\n",
      "[Epoch 118/200] [D loss: 0.128584] [G loss: 3.092533] [Elapsed time: 768.95s]\n",
      "[Epoch 119/200] [D loss: 0.152657] [G loss: 3.486701] [Elapsed time: 775.43s]\n",
      "[Epoch 120/200] [D loss: 0.290578] [G loss: 1.196427] [Elapsed time: 781.95s]\n",
      "[Epoch 121/200] [D loss: 0.133270] [G loss: 2.593823] [Elapsed time: 788.06s]\n",
      "[Epoch 122/200] [D loss: 0.155762] [G loss: 2.393558] [Elapsed time: 794.34s]\n",
      "[Epoch 123/200] [D loss: 0.146882] [G loss: 1.991119] [Elapsed time: 800.78s]\n",
      "[Epoch 124/200] [D loss: 0.210759] [G loss: 3.838969] [Elapsed time: 807.60s]\n",
      "[Epoch 125/200] [D loss: 0.108373] [G loss: 3.504014] [Elapsed time: 814.36s]\n",
      "[Epoch 126/200] [D loss: 0.211541] [G loss: 2.241411] [Elapsed time: 820.73s]\n",
      "[Epoch 127/200] [D loss: 0.271674] [G loss: 5.818400] [Elapsed time: 827.17s]\n",
      "[Epoch 128/200] [D loss: 0.479693] [G loss: 7.266342] [Elapsed time: 833.79s]\n",
      "[Epoch 129/200] [D loss: 0.086888] [G loss: 3.223306] [Elapsed time: 840.26s]\n",
      "[Epoch 130/200] [D loss: 0.152568] [G loss: 3.708101] [Elapsed time: 846.75s]\n",
      "[Epoch 131/200] [D loss: 0.129443] [G loss: 2.963057] [Elapsed time: 853.44s]\n",
      "[Epoch 132/200] [D loss: 0.146574] [G loss: 3.882239] [Elapsed time: 860.25s]\n",
      "[Epoch 133/200] [D loss: 0.107161] [G loss: 2.830151] [Elapsed time: 866.92s]\n",
      "[Epoch 134/200] [D loss: 0.252424] [G loss: 4.369951] [Elapsed time: 873.47s]\n",
      "[Epoch 135/200] [D loss: 0.139051] [G loss: 2.115909] [Elapsed time: 879.80s]\n",
      "[Epoch 136/200] [D loss: 0.139764] [G loss: 4.599770] [Elapsed time: 886.22s]\n",
      "[Epoch 137/200] [D loss: 0.169501] [G loss: 3.724813] [Elapsed time: 893.08s]\n",
      "[Epoch 138/200] [D loss: 0.176471] [G loss: 3.698350] [Elapsed time: 899.64s]\n",
      "[Epoch 139/200] [D loss: 0.155483] [G loss: 4.875018] [Elapsed time: 906.52s]\n",
      "[Epoch 140/200] [D loss: 0.131264] [G loss: 2.332159] [Elapsed time: 913.04s]\n",
      "[Epoch 141/200] [D loss: 0.187997] [G loss: 2.923587] [Elapsed time: 919.52s]\n",
      "[Epoch 142/200] [D loss: 0.188674] [G loss: 3.601541] [Elapsed time: 925.88s]\n",
      "[Epoch 143/200] [D loss: 0.142184] [G loss: 3.084750] [Elapsed time: 932.38s]\n",
      "[Epoch 144/200] [D loss: 0.190009] [G loss: 2.648420] [Elapsed time: 938.75s]\n",
      "[Epoch 145/200] [D loss: 0.077281] [G loss: 2.946151] [Elapsed time: 945.27s]\n",
      "[Epoch 146/200] [D loss: 0.140121] [G loss: 2.563116] [Elapsed time: 951.73s]\n",
      "[Epoch 147/200] [D loss: 0.103093] [G loss: 2.420583] [Elapsed time: 958.41s]\n",
      "[Epoch 148/200] [D loss: 0.185248] [G loss: 4.511497] [Elapsed time: 964.83s]\n",
      "[Epoch 149/200] [D loss: 0.153631] [G loss: 3.241764] [Elapsed time: 971.25s]\n",
      "[Epoch 150/200] [D loss: 0.190316] [G loss: 1.875806] [Elapsed time: 977.90s]\n",
      "[Epoch 151/200] [D loss: 0.149453] [G loss: 3.628263] [Elapsed time: 984.41s]\n",
      "[Epoch 152/200] [D loss: 0.168240] [G loss: 2.244970] [Elapsed time: 990.94s]\n",
      "[Epoch 153/200] [D loss: 0.356766] [G loss: 6.968519] [Elapsed time: 997.58s]\n",
      "[Epoch 154/200] [D loss: 0.140086] [G loss: 2.495121] [Elapsed time: 1004.15s]\n",
      "[Epoch 155/200] [D loss: 0.066028] [G loss: 2.761128] [Elapsed time: 1011.23s]\n",
      "[Epoch 156/200] [D loss: 0.185766] [G loss: 3.742396] [Elapsed time: 1018.16s]\n",
      "[Epoch 157/200] [D loss: 0.066373] [G loss: 3.611722] [Elapsed time: 1024.93s]\n",
      "[Epoch 158/200] [D loss: 0.193350] [G loss: 4.058203] [Elapsed time: 1031.72s]\n",
      "[Epoch 159/200] [D loss: 0.188491] [G loss: 2.261001] [Elapsed time: 1038.62s]\n",
      "[Epoch 160/200] [D loss: 0.185237] [G loss: 2.370155] [Elapsed time: 1045.23s]\n",
      "[Epoch 161/200] [D loss: 0.193811] [G loss: 2.750679] [Elapsed time: 1051.82s]\n",
      "[Epoch 162/200] [D loss: 0.168335] [G loss: 2.943311] [Elapsed time: 1058.71s]\n",
      "[Epoch 163/200] [D loss: 0.219112] [G loss: 2.328587] [Elapsed time: 1065.26s]\n",
      "[Epoch 164/200] [D loss: 0.287004] [G loss: 1.923156] [Elapsed time: 1071.88s]\n",
      "[Epoch 165/200] [D loss: 0.254815] [G loss: 4.434116] [Elapsed time: 1079.02s]\n",
      "[Epoch 166/200] [D loss: 0.247329] [G loss: 3.792289] [Elapsed time: 1087.00s]\n",
      "[Epoch 167/200] [D loss: 0.055401] [G loss: 3.997544] [Elapsed time: 1095.32s]\n",
      "[Epoch 168/200] [D loss: 0.316792] [G loss: 1.828699] [Elapsed time: 1103.02s]\n",
      "[Epoch 169/200] [D loss: 0.112679] [G loss: 3.185426] [Elapsed time: 1110.87s]\n",
      "[Epoch 170/200] [D loss: 0.147739] [G loss: 2.079669] [Elapsed time: 1118.79s]\n",
      "[Epoch 171/200] [D loss: 0.155965] [G loss: 2.586538] [Elapsed time: 1127.17s]\n",
      "[Epoch 172/200] [D loss: 0.340243] [G loss: 1.256928] [Elapsed time: 1135.07s]\n",
      "[Epoch 173/200] [D loss: 0.169659] [G loss: 3.861661] [Elapsed time: 1142.66s]\n",
      "[Epoch 174/200] [D loss: 0.144073] [G loss: 2.025565] [Elapsed time: 1150.22s]\n",
      "[Epoch 175/200] [D loss: 0.150192] [G loss: 3.666420] [Elapsed time: 1157.73s]\n",
      "[Epoch 176/200] [D loss: 0.200253] [G loss: 2.068808] [Elapsed time: 1165.91s]\n",
      "[Epoch 177/200] [D loss: 0.109840] [G loss: 2.808423] [Elapsed time: 1174.15s]\n",
      "[Epoch 178/200] [D loss: 0.165254] [G loss: 2.623868] [Elapsed time: 1182.29s]\n",
      "[Epoch 179/200] [D loss: 0.168797] [G loss: 3.557566] [Elapsed time: 1190.73s]\n",
      "[Epoch 180/200] [D loss: 0.238912] [G loss: 5.307706] [Elapsed time: 1199.93s]\n",
      "[Epoch 181/200] [D loss: 0.203829] [G loss: 3.365479] [Elapsed time: 1208.59s]\n",
      "[Epoch 182/200] [D loss: 0.115504] [G loss: 3.478776] [Elapsed time: 1216.42s]\n",
      "[Epoch 183/200] [D loss: 0.384039] [G loss: 1.872319] [Elapsed time: 1222.58s]\n",
      "[Epoch 184/200] [D loss: 0.251241] [G loss: 2.723820] [Elapsed time: 1228.63s]\n",
      "[Epoch 185/200] [D loss: 0.276532] [G loss: 3.798782] [Elapsed time: 1234.35s]\n",
      "[Epoch 186/200] [D loss: 0.215468] [G loss: 3.742729] [Elapsed time: 1240.03s]\n",
      "[Epoch 187/200] [D loss: 0.120134] [G loss: 3.841159] [Elapsed time: 1245.66s]\n",
      "[Epoch 188/200] [D loss: 0.117912] [G loss: 2.958475] [Elapsed time: 1251.37s]\n",
      "[Epoch 189/200] [D loss: 0.174310] [G loss: 3.072788] [Elapsed time: 1257.16s]\n",
      "[Epoch 190/200] [D loss: 0.271344] [G loss: 3.053196] [Elapsed time: 1263.40s]\n",
      "[Epoch 191/200] [D loss: 0.167638] [G loss: 2.700067] [Elapsed time: 1269.00s]\n",
      "[Epoch 192/200] [D loss: 0.124168] [G loss: 2.370034] [Elapsed time: 1274.61s]\n",
      "[Epoch 193/200] [D loss: 0.206968] [G loss: 3.204361] [Elapsed time: 1280.93s]\n",
      "[Epoch 194/200] [D loss: 0.139732] [G loss: 3.692716] [Elapsed time: 1286.46s]\n",
      "[Epoch 195/200] [D loss: 0.120426] [G loss: 3.175116] [Elapsed time: 1292.01s]\n",
      "[Epoch 196/200] [D loss: 0.147326] [G loss: 2.055040] [Elapsed time: 1297.58s]\n",
      "[Epoch 197/200] [D loss: 0.626526] [G loss: 8.380327] [Elapsed time: 1303.14s]\n",
      "[Epoch 198/200] [D loss: 0.264634] [G loss: 3.966875] [Elapsed time: 1309.34s]\n",
      "[Epoch 199/200] [D loss: 0.150452] [G loss: 3.285295] [Elapsed time: 1315.43s]\n"
     ]
    }
   ],
   "execution_count": 52
  },
  {
   "metadata": {},
   "cell_type": "markdown",
   "source": "# Result",
   "id": "aeb6d2fdf6543ce6"
  },
  {
   "metadata": {
    "ExecuteTime": {
     "end_time": "2024-08-26T14:56:14.684593Z",
     "start_time": "2024-08-26T14:56:14.670525Z"
    }
   },
   "cell_type": "code",
   "source": [
    "from IPython.display import Image\n",
    "\n",
    "Image('./dataset/img/92000.png')     "
   ],
   "id": "c95c754e1b493fb1",
   "outputs": [
    {
     "data": {
      "image/png": "[encoded data removed]",
      "text/plain": [
       "<IPython.core.display.Image object>"
      ]
     },
     "execution_count": 54,
     "metadata": {},
     "output_type": "execute_result"
    }
   ],
   "execution_count": 54
  }
 ],
 "metadata": {
  "kernelspec": {
   "display_name": "Python 3",
   "language": "python",
   "name": "python3"
  },
  "language_info": {
   "codemirror_mode": {
    "name": "ipython",
    "version": 2
   },
   "file_extension": ".py",
   "mimetype": "text/x-python",
   "name": "python",
   "nbconvert_exporter": "python",
   "pygments_lexer": "ipython2",
   "version": "2.7.6"
  }
 },
 "nbformat": 4,
 "nbformat_minor": 5
}
